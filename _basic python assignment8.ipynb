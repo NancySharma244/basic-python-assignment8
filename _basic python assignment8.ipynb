{
 "cells": [
  {
   "cell_type": "markdown",
   "id": "94b9b568",
   "metadata": {},
   "source": [
    "1. Is the Python Standard Library included with PyInputPlus?\n",
    "   PyInputPlus is not a part of the Python Standard Library."
   ]
  },
  {
   "cell_type": "markdown",
   "id": "5b0d4651",
   "metadata": {},
   "source": [
    "2. Why is PyInputPlus commonly imported with import pyinputplus as pypi?\n",
    "   You can import the module with import pyinputplus as pyip so that you can enter a shorter name when calling the module's    functions."
   ]
  },
  {
   "cell_type": "markdown",
   "id": "488473ae",
   "metadata": {},
   "source": [
    "3. How do you distinguish between inputInt() and inputFloat()?\n",
    "   The inputInt() function returns an integer, while the inputFloat() function returns a float value. "
   ]
  },
  {
   "cell_type": "markdown",
   "id": "a49fc644",
   "metadata": {},
   "source": [
    " 4. Using PyInputPlus, how do you ensure that the user enters a whole number between 0 and 99?\n",
    "    By using pyip.inputint(min=0, max=99)."
   ]
  },
  {
   "cell_type": "markdown",
   "id": "116fad92",
   "metadata": {},
   "source": [
    "5. What is transferred to the keyword arguments allowRegexes and blockRegexes?\n",
    "   You can also use regular expressions to specify whether an input is allowed or not. The allowRegexes and blockRegexes      keyword arguments take a list of regular expression strings to determine what the PyInputPlus function will accept or      reject as valid input."
   ]
  },
  {
   "cell_type": "markdown",
   "id": "7fc05504",
   "metadata": {},
   "source": [
    "6. If a blank input is entered three times, what does inputStr(limit=3) do?\n",
    "   It will throw RetryLimitException exception."
   ]
  },
  {
   "cell_type": "markdown",
   "id": "0b153813",
   "metadata": {},
   "source": [
    "7. If blank input is entered three times, what does inputStr(limit=3, default='hello') do?\n",
    "   It returns a None value."
   ]
  }
 ],
 "metadata": {
  "kernelspec": {
   "display_name": "Python 3 (ipykernel)",
   "language": "python",
   "name": "python3"
  },
  "language_info": {
   "codemirror_mode": {
    "name": "ipython",
    "version": 3
   },
   "file_extension": ".py",
   "mimetype": "text/x-python",
   "name": "python",
   "nbconvert_exporter": "python",
   "pygments_lexer": "ipython3",
   "version": "3.9.7"
  }
 },
 "nbformat": 4,
 "nbformat_minor": 5
}
